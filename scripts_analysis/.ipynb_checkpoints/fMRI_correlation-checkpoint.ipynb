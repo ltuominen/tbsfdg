{
 "cells": [
  {
   "cell_type": "markdown",
   "id": "11874da4-3ba2-4753-8b10-ddb3469cb352",
   "metadata": {},
   "source": [
    "Analysis plan \n",
    "1. convert fMRI to fsaverage space \n",
    "2. extract time series from seeds \n",
    "3. correlate seed time series with rest of the brain \n",
    "4. convert to fisher-z\n",
    "5. write a correlation image\n",
    "\n",
    "6. correlate seed time series with time series from glasser atlas\n",
    "7. convert to fisher-z scores\n",
    "\n",
    "8. test seed correlation differences between 2 conditions on voxels & parcels\n",
    "9. find peaks in the prefrontal cortex  \n"
   ]
  },
  {
   "cell_type": "code",
   "execution_count": 1,
   "id": "64b8192a-8fde-4dd5-85e4-7cff1287ffef",
   "metadata": {},
   "outputs": [],
   "source": [
    "import os \n",
    "import numpy as np\n",
    "import pandas as pd\n",
    "import subprocess\n",
    "import nibabel as nb\n",
    "from nibabel.freesurfer.io import read_label"
   ]
  },
  {
   "cell_type": "code",
   "execution_count": 2,
   "id": "2244b09f-b3ec-4082-9292-8e8b928bd6ed",
   "metadata": {},
   "outputs": [],
   "source": [
    "def define_data():\n",
    "    # read label\n",
    "    BASE_PATH = os.path.dirname(os.getcwd())\n",
    "    label = read_label(BASE_PATH + '/seeds/TMS10mm-lh.label')\n",
    "\n",
    "    # get fMRI \n",
    "    FMRI_PATH = '/Users/laurituominen/Documents/Research/FDGPET/petanalysis/test_fMRI/'\n",
    "    f = 'sub-tbsfdg001_ses-002_task-rest_space-MNI152NLin6Asym_res-2_desc-denoised_bold.nii.gz'\n",
    "    fMRI_file = FMRI_PATH + f\n",
    "    \n",
    "    # get parcel timeseries \n",
    "    ts = 'sub-tbsfdg001_ses-002_task-rest_space-MNI152NLin6Asym_atlas-Glasser_timeseries.tsv'\n",
    "    parcel_file = FMRI_PATH + ts\n",
    "    return((label, fMRI_file, parcel_file))\n"
   ]
  },
  {
   "cell_type": "code",
   "execution_count": 3,
   "id": "52a3c1a7-2f53-4663-bee9-bba9690cc167",
   "metadata": {},
   "outputs": [],
   "source": [
    "def surf2vol(fMRI_file):\n",
    "    FMRI_PATH = os.path.dirname(fMRI_file)\n",
    "    split_id = os.path.basename(fMRI_file).split('_')\n",
    "    id = split_id[0] + '_' + split_id[1]\n",
    "    surface = os.path.join(FMRI_PATH, id + '.lh.fsaverage.preprocessed.nii.gz')\n",
    "\n",
    "    # vol2surf \n",
    "    cmd = [\n",
    "    \"mri_vol2surf\",\n",
    "    \"--mov\", fMRI_file,\n",
    "    \"--mni152reg\",\n",
    "    \"--hemi\", \"lh\",\n",
    "    \"--surf\", \"white\",\n",
    "    \"--o\", surface\n",
    "    ]\n",
    "    # Run the command\n",
    "    result = subprocess.run(cmd, capture_output=True, text=True)\n",
    "    return(surface)    "
   ]
  },
  {
   "cell_type": "code",
   "execution_count": 4,
   "id": "47f1cc99-11dc-4f3f-9a95-10030eea4452",
   "metadata": {},
   "outputs": [],
   "source": [
    "def get_awf(label, surface):\n",
    "    # extract seed \n",
    "    img_L = nb.load(surface).get_fdata()\n",
    "    img_L = np.squeeze(img_L)\n",
    "    awf = np.mean(img_L[label,:],0)\n",
    "\n",
    "    # save awf\n",
    "    split_id = os.path.basename(surface).split('.')\n",
    "    id = split_id[0]\n",
    "    FMRI_PATH = os.path.dirname(surface)\n",
    "    np.savetxt(os.path.join(FMRI_PATH, id + '_awf.txt'), awf)\n",
    "    \n",
    "    return(awf)"
   ]
  },
  {
   "cell_type": "code",
   "execution_count": 5,
   "id": "fde184c2-5884-428b-b1e4-aaa06a97cb0c",
   "metadata": {},
   "outputs": [],
   "source": [
    "def seed2vox(full_file, awf):\n",
    "\n",
    "    # load fMRI \n",
    "    fMRI = nb.load(full_file)\n",
    "    fMRI_data =fMRI.get_fdata()\n",
    "    \n",
    "    # Calculate means, std, and normalize\n",
    "    fMRI_mean = np.mean(fMRI_data, axis=3, keepdims=True)\n",
    "    fMRI_std = np.std(fMRI_data, axis=3, keepdims=True)\n",
    "    epsilon = 1e-8\n",
    "    fMRI_std_adjusted = fMRI_std + epsilon\n",
    "    normalized_fMRI = (fMRI_data - fMRI_mean) / fMRI_std_adjusted\n",
    "    \n",
    "    # variance normalize seed time series\n",
    "    awf_mean = np.mean(awf)\n",
    "    awf_std = np.std(awf)\n",
    "    normalized_seed = (awf - awf_mean) / awf_std\n",
    "   \n",
    "    # calculate correlation between seed and voxels\n",
    "    seed_correlations = np.dot(normalized_fMRI, normalized_seed) / normalized_seed.shape[0]\n",
    "    zscored = np.arctanh(seed_correlations)\n",
    "    \n",
    "    # save data \n",
    "    corr_img = nb.Nifti1Image(seed_correlations, fMRI.affine, nb.Nifti1Header())\n",
    "    zscored_img = nb.Nifti1Image(zscored, fMRI.affine, nb.Nifti1Header())\n",
    "\n",
    "    # write data \n",
    "    split_id = os.path.basename(full_file).split('_')\n",
    "    id = split_id[0] + '_' + split_id[1]\n",
    "    FMRI_PATH = os.path.dirname(full_file)\n",
    "    nb.save(corr_img, os.path.join(FMRI_PATH, id + '.seed_to_voxel_correlations.nii'))\n",
    "    nb.save(zscored_img, os.path.join(FMRI_PATH, id + '.seed_to_voxel_zscore.nii'))\n",
    "\n",
    "    # return        \n",
    "    return((corr_img, zscored_img))"
   ]
  },
  {
   "cell_type": "code",
   "execution_count": null,
   "id": "66d90cd4-1823-480b-bfe4-5839268a2c2d",
   "metadata": {},
   "outputs": [],
   "source": [
    "# run analysis \n",
    "label, fMRI_file, parcel_file = define_data()\n",
    "\n",
    "surface = surf2vol(fMRI_file)\n",
    "\n",
    "awf = get_awf(label,surface)\n",
    "\n",
    "corr_img, zscored_img = seed2vox(fMRI_file, awf)\n",
    "\n"
   ]
  },
  {
   "cell_type": "code",
   "execution_count": null,
   "id": "a76814c0-c765-4290-aa00-437ffcbcfa7d",
   "metadata": {},
   "outputs": [],
   "source": []
  }
 ],
 "metadata": {
  "kernelspec": {
   "display_name": "Python 3 (ipykernel)",
   "language": "python",
   "name": "python3"
  },
  "language_info": {
   "codemirror_mode": {
    "name": "ipython",
    "version": 3
   },
   "file_extension": ".py",
   "mimetype": "text/x-python",
   "name": "python",
   "nbconvert_exporter": "python",
   "pygments_lexer": "ipython3",
   "version": "3.10.12"
  }
 },
 "nbformat": 4,
 "nbformat_minor": 5
}
