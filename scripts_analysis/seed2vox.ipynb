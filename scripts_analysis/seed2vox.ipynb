{
 "cells": [
  {
   "cell_type": "code",
   "execution_count": 4,
   "metadata": {},
   "outputs": [],
   "source": [
    "from nilearn.maskers import NiftiSpheresMasker\n",
    "\n",
    "TMS_coordinates=[-38, 44, 26]\n",
    "\n",
    "seed_masker = NiftiSpheresMasker(\n",
    "    TMS_coordinates,\n",
    "    radius=10,\n",
    "    detrend=True,\n",
    "    standardize=\"zscore_sample\",\n",
    "    standardize_confounds=\"zscore_sample\",\n",
    "    low_pass=0.1,\n",
    "    high_pass=0.01,\n",
    "    t_r=2.3,\n",
    "    memory=\"nilearn_cache\",\n",
    "    memory_level=1,\n",
    "    verbose=0,\n",
    ")"
   ]
  },
  {
   "cell_type": "code",
   "execution_count": 5,
   "metadata": {},
   "outputs": [
    {
     "data": {
      "text/plain": [
       "BIDS Layout: ...ts/TMS-FDG/derivatives/iter6s2 | Subjects: 16 | Sessions: 16 | Runs: 48"
      ]
     },
     "execution_count": 5,
     "metadata": {},
     "output_type": "execute_result"
    }
   ],
   "source": [
    "from bids import BIDSLayout\n",
    "#import os \n",
    "\n",
    "root  = \"/home/lauri/Documents/TMS-FDG/derivatives/iter6s2\"\n",
    "processed = BIDSLayout(root, validate=False)\n",
    "processed"
   ]
  },
  {
   "cell_type": "code",
   "execution_count": 6,
   "metadata": {},
   "outputs": [
    {
     "data": {
      "text/plain": [
       "['/home/lauri/Documents/TMS-FDG/derivatives/iter6s2/sub-tbsfdg001/ses-002/func/sub-tbsfdg001_ses-002_task-rest_run-01_desc-confounds_timeseries.tsv',\n",
       " '/home/lauri/Documents/TMS-FDG/derivatives/iter6s2/sub-tbsfdg001/ses-002/func/sub-tbsfdg001_ses-002_task-rest_run-02_desc-confounds_timeseries.tsv',\n",
       " '/home/lauri/Documents/TMS-FDG/derivatives/iter6s2/sub-tbsfdg001/ses-002/func/sub-tbsfdg001_ses-002_task-rest_run-03_desc-confounds_timeseries.tsv']"
      ]
     },
     "execution_count": 6,
     "metadata": {},
     "output_type": "execute_result"
    }
   ],
   "source": [
    "subjects = processed.get_subjects()\n",
    "subject = subjects[0]\n",
    "bold = processed.get(subject=subject, extension='.nii.gz', suffix='bold', task='rest', space='MNI152NLin6Asym', return_type='filename')\n",
    "mask = processed.get(subject=subject, extension='.nii.gz', suffix='mask', task='rest', space='MNI152NLin6Asym', return_type='filename')\n",
    "confounds = processed.get(subject=subject, extension='.tsv', task='rest', suffix='timeseries', return_type='filename')\n",
    "#os.path.join(root,'derivatives/iter6s3/')\n",
    "confounds"
   ]
  },
  {
   "cell_type": "code",
   "execution_count": 7,
   "metadata": {},
   "outputs": [],
   "source": [
    "import pandas as pd\n",
    "simple = ['cosine00', 'cosine01', 'cosine02', 'cosine03', 'cosine04', 'cosine05',\n",
    "    'csf', 'rot_x', 'rot_x_derivative1', 'rot_x_derivative1_power2',\n",
    "    'rot_x_power2', 'rot_y', 'rot_y_derivative1',\n",
    "    'rot_y_derivative1_power2', 'rot_y_power2', 'rot_z',\n",
    "    'rot_z_derivative1', 'rot_z_derivative1_power2', 'rot_z_power2',\n",
    "    'trans_x', 'trans_x_derivative1', 'trans_x_derivative1_power2',\n",
    "    'trans_x_power2', 'trans_y', 'trans_y_derivative1',\n",
    "    'trans_y_derivative1_power2', 'trans_y_power2', 'trans_z',\n",
    "    'trans_z_derivative1', 'trans_z_derivative1_power2', 'trans_z_power2',\n",
    "    'white_matter']\n",
    "\n",
    "    # read confounds and reorganize\n",
    "confounds_df = pd.read_csv(confounds[0], sep='\\t')\n",
    "confounds_df = confounds_df[simple]\n",
    "confounds_df.fillna(0, inplace=True )"
   ]
  },
  {
   "cell_type": "markdown",
   "metadata": {},
   "source": [
    "## plan: \n",
    "# rerun fMRI-prep. Done? \n",
    "# re-preprocess xcp-d with the --warp-surfaces-native2std -flag\n",
    "# install neuromaps & wb\n",
    "# convert seed label to image and then to fsLR using neuromaps \n",
    "# plot seed on the surface \n",
    "# extract time series from the seed \n",
    "# correlate with xcp-d volume output \n",
    "# z-transform & average across runs "
   ]
  },
  {
   "cell_type": "code",
   "execution_count": null,
   "metadata": {},
   "outputs": [],
   "source": [
    "\n",
    "\n"
   ]
  },
  {
   "cell_type": "code",
   "execution_count": null,
   "metadata": {},
   "outputs": [],
   "source": [
    "#seed_time_series = seed_masker.fit_transform(\n",
    "#    func_filename, confounds=[confound_filename]\n",
    "#)"
   ]
  },
  {
   "cell_type": "code",
   "execution_count": null,
   "metadata": {},
   "outputs": [],
   "source": [
    "#from nilearn.maskers import NiftiMasker\n",
    "\n",
    "#brain_masker = NiftiMasker(\n",
    "#    smoothing_fwhm=6,\n",
    "#    detrend=True,\n",
    "#    standardize=\"zscore_sample\",\n",
    "#    standardize_confounds=\"zscore_sample\",\n",
    "#    low_pass=0.1,\n",
    "#    high_pass=0.01,\n",
    "#    t_r=2,\n",
    "#    memory=\"nilearn_cache\",\n",
    "#    memory_level=1,\n",
    "#    verbose=0,\n",
    "#)\n",
    "\n",
    "#brain_time_series = brain_masker.fit_transform(\n",
    "#    func_filename, confounds=[confound_filename]\n",
    "#)"
   ]
  },
  {
   "cell_type": "code",
   "execution_count": null,
   "metadata": {},
   "outputs": [],
   "source": []
  }
 ],
 "metadata": {
  "kernelspec": {
   "display_name": "base",
   "language": "python",
   "name": "python3"
  },
  "language_info": {
   "codemirror_mode": {
    "name": "ipython",
    "version": 3
   },
   "file_extension": ".py",
   "mimetype": "text/x-python",
   "name": "python",
   "nbconvert_exporter": "python",
   "pygments_lexer": "ipython3",
   "version": "3.11.9"
  }
 },
 "nbformat": 4,
 "nbformat_minor": 2
}
