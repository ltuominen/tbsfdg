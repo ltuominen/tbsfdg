{
 "cells": [
  {
   "cell_type": "code",
   "execution_count": null,
   "id": "7eb66573-2dfa-4a10-9d6f-f65967ba3383",
   "metadata": {},
   "outputs": [],
   "source": [
    "import os\n",
    "import numpy as np\n",
    "\n",
    "def make_spherical_roi(coordinates, radius):\n",
    "    '''\n",
    "    takes MNI152 coordinates and a radius and creates a sphere\n",
    "    '''\n",
    "    \n",
    "    # this is in fsl MNI152 space\n",
    "    fsl_dir=os.environ['FSL_DIR']\n",
    "    mni152_brain=fsl_dir + '/data/standard/MNI152_T1_2mm_brain.nii.gz'\n",
    "    data = nb.load(mni152_brain).get_fdata()\n",
    "    affine = nb.load(mni152_brain).affine\n",
    "    \n",
    "    # the center and radius of the sphere in MNI coordinates \n",
    "    center_roi = np.array(coordinates)  \n",
    "    \n",
    "    # Convert MNI coordinates to voxel coordinates\n",
    "    center_vox = np.round(apply_affine(inv(affine), center_roi)).astype(int)\n",
    "    \n",
    "    # calculate voxels within the sphere \n",
    "    x, y, z = np.indices(data.shape)\n",
    "    dist_from_center = np.sqrt((x - center_vox[0])**2 + (y - center_vox[1])**2 + (z - center_vox[2])**2)\n",
    "    \n",
    "    # Create a binary spherical mask\n",
    "    mask = dist_from_center <= radius\n",
    "    return nb.Nifti1Image(mask.astype('float32'), affine)"
   ]
  }
 ],
 "metadata": {
  "kernelspec": {
   "display_name": "Python 3 (ipykernel)",
   "language": "python",
   "name": "python3"
  },
  "language_info": {
   "codemirror_mode": {
    "name": "ipython",
    "version": 3
   },
   "file_extension": ".py",
   "mimetype": "text/x-python",
   "name": "python",
   "nbconvert_exporter": "python",
   "pygments_lexer": "ipython3",
   "version": "3.10.12"
  }
 },
 "nbformat": 4,
 "nbformat_minor": 5
}
