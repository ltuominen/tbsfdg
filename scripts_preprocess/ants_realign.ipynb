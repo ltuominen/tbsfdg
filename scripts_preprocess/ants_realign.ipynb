{
 "cells": [
  {
   "cell_type": "code",
   "execution_count": 1,
   "metadata": {},
   "outputs": [],
   "source": [
    "import ants\n",
    "import glob, os\n",
    "\n",
    "from nilearn import plotting"
   ]
  },
  {
   "cell_type": "code",
   "execution_count": 54,
   "metadata": {},
   "outputs": [
    {
     "name": "stdout",
     "output_type": "stream",
     "text": [
      "['/home/lauri/Documents/TMS-FDG/derivatives/iter6s2/sub-tbsfdg001/', '/home/lauri/Documents/TMS-FDG/derivatives/iter6s2/sub-tbsfdg005/', '/home/lauri/Documents/TMS-FDG/derivatives/iter6s2/sub-tbsfdg004/', '/home/lauri/Documents/TMS-FDG/derivatives/iter6s2/sub-tbsfdg007/', '/home/lauri/Documents/TMS-FDG/derivatives/iter6s2/sub-tbsfdg011/', '/home/lauri/Documents/TMS-FDG/derivatives/iter6s2/sub-tbsfdg019/', '/home/lauri/Documents/TMS-FDG/derivatives/iter6s2/sub-tbsfdg031/', '/home/lauri/Documents/TMS-FDG/derivatives/iter6s2/sub-tbsfdg010/', '/home/lauri/Documents/TMS-FDG/derivatives/iter6s2/sub-tbsfdg006/', '/home/lauri/Documents/TMS-FDG/derivatives/iter6s2/sub-tbsfdg015/', '/home/lauri/Documents/TMS-FDG/derivatives/iter6s2/sub-tbsfdg002/', '/home/lauri/Documents/TMS-FDG/derivatives/iter6s2/sub-tbsfdg008/', '/home/lauri/Documents/TMS-FDG/derivatives/iter6s2/sub-tbsfdg034/', '/home/lauri/Documents/TMS-FDG/derivatives/iter6s2/sub-tbsfdg009/', '/home/lauri/Documents/TMS-FDG/derivatives/iter6s2/sub-tbsfdg023/', '/home/lauri/Documents/TMS-FDG/derivatives/iter6s2/sub-tbsfdg021/']\n"
     ]
    }
   ],
   "source": [
    "# \n",
    "bids_dir2 = '/home/lauri/Documents/TMS-FDG/derivatives/iter6s2'\n",
    "bids_dir3 = '/home/lauri/Documents/TMS-FDG/derivatives/iter6s3'\n",
    "\n",
    "\n",
    "fullpath_subjects = glob.glob(f'{bids_dir}/sub-*/')\n",
    "print(fullpath_subjects)\n",
    "subjects = []\n",
    "for s in fullpath_subjects:\n",
    "    subjects.append(os.path.basename(os.path.normpath(s)))\n",
    "\n"
   ]
  },
  {
   "cell_type": "code",
   "execution_count": 55,
   "metadata": {},
   "outputs": [],
   "source": [
    "def warp2MNI(bids_dir, subject, session):\n",
    "    \n",
    "    SUVR_pet_file = f'{bids_dir}/{subject}/{session}/pet/SUVR.nii.gz'\n",
    "    T1w_file = glob.glob(f'{bids_dir}/{subject}/{session}/anat/{subject}_{session}_desc-preproc_T1w.nii.gz')[0]\n",
    "    T1w_MNI_file = glob.glob(f'{bids_dir}/{subject}/{session}/anat/*_res-2_desc-preproc_T1w.nii.gz')[0]\n",
    "\n",
    "    T1w2MNI = glob.glob(f'{bids_dir}/{subject}/{session}/anat/*MNI152NLin6Asym_mode-image_xfm.h5')[0]\n",
    "    REGDIR=f'{bids_dir}/{subject}/{session}/pet/antsr/'\n",
    "\n",
    "    print(f'processing {subject} {session}')\n",
    "    # see if files exist:\n",
    "    if not os.path.exists(SUVR_pet_file):\n",
    "        print(f'{subject} PET data missing')\n",
    "        return\n",
    "    \n",
    "    if not os.path.exists(T1w_MNI_file):\n",
    "        print(f'{subject} T1w in MNI missing')\n",
    "        return\n",
    "    \n",
    "    if not os.path.exists(T1w_file) :\n",
    "        print(f'{subject} T1w missing')\n",
    "        return\n",
    "    \n",
    "    if not os.path.exists(T1w2MNI):\n",
    "        print(f'{subject} T1w2MNI missing')\n",
    "        return\n",
    "    \n",
    "    # regdir \n",
    "    if not os.path.exists(REGDIR ):\n",
    "        os.makedirs(REGDIR)\n",
    "        \n",
    "    # load as ants images \n",
    "    SUVR_pet = ants.image_read(SUVR_pet_file)\n",
    "    T1w = ants.image_read(T1w_file)\n",
    "    T1w_MNI = ants.image_read(T1w_MNI_file)\n",
    "\n",
    "    # calculate PET2T1w\n",
    "    registration = ants.registration(fixed=T1w, moving=SUVR_pet, type_of_transform='Affine',metric='MI', outprefix=REGDIR)\n",
    "\n",
    "    img = registration['warpedmovout']\n",
    "\n",
    "    T1w_mask_file = glob.glob(f'{bids_dir}/{subject}/{session}/anat/*_desc-brain_mask.nii.gz')[0]\n",
    "    T1w_mask  = ants.image_read(T1w_mask_file)\n",
    "    \n",
    "    # combine registrations and save combined transform file\n",
    "    comptx_file = ants.apply_transforms(fixed=T1w_MNI,\n",
    "                                        moving=SUVR_pet,\n",
    "                                        transformlist=[ T1w2MNI, registration['fwdtransforms'][0]],\n",
    "                                        compose=REGDIR)\n",
    "\n",
    "    # apply PET to MNI transform to dynamic_template\n",
    "    PET_MNIspace = ants.apply_transforms(fixed=T1w_MNI,moving=SUVR_pet,transformlist=[comptx_file])\n",
    "    #ants.image_write(template_MNIspace,os.path.join(REGDIR,'dynamic_template_MNI.nii.gz'))\n",
    "    ants.image_write(PET_MNIspace,f'{bids_dir}/{subject}/{session}/pet/SUVR_in_MNI.nii.gz')\n",
    "    #disp = plotting.plot_stat_map(f'{bids_dir}/{subject}/{session}/pet/SUVR_in_MNI.nii.gz', alpha= 2/4)\n",
    "    #disp.savefig(f'{bids_dir}/{subject}/{session}/pet/SUVR_in_MNI.nii.png')\n",
    "    print(f'{subject} {session} done')\n",
    "    "
   ]
  },
  {
   "cell_type": "code",
   "execution_count": 58,
   "metadata": {},
   "outputs": [
    {
     "name": "stdout",
     "output_type": "stream",
     "text": [
      "processing sub-tbsfdg001 ses-002\n",
      "sub-tbsfdg001 ses-002 done\n",
      "processing sub-tbsfdg001 ses-003\n",
      "sub-tbsfdg001 PET data missing\n",
      "processing sub-tbsfdg005 ses-002\n",
      "sub-tbsfdg005 PET data missing\n",
      "processing sub-tbsfdg005 ses-003\n",
      "sub-tbsfdg005 PET data missing\n",
      "processing sub-tbsfdg004 ses-002\n",
      "sub-tbsfdg004 PET data missing\n",
      "processing sub-tbsfdg004 ses-003\n",
      "sub-tbsfdg004 PET data missing\n",
      "processing sub-tbsfdg007 ses-002\n",
      "sub-tbsfdg007 PET data missing\n",
      "processing sub-tbsfdg007 ses-003\n",
      "sub-tbsfdg007 PET data missing\n",
      "processing sub-tbsfdg011 ses-002\n",
      "sub-tbsfdg011 PET data missing\n",
      "processing sub-tbsfdg011 ses-003\n",
      "sub-tbsfdg011 PET data missing\n",
      "processing sub-tbsfdg019 ses-002\n",
      "sub-tbsfdg019 PET data missing\n",
      "processing sub-tbsfdg019 ses-003\n",
      "sub-tbsfdg019 PET data missing\n",
      "processing sub-tbsfdg031 ses-002\n",
      "sub-tbsfdg031 PET data missing\n",
      "processing sub-tbsfdg031 ses-003\n",
      "sub-tbsfdg031 PET data missing\n",
      "processing sub-tbsfdg010 ses-002\n",
      "sub-tbsfdg010 PET data missing\n",
      "processing sub-tbsfdg010 ses-003\n",
      "sub-tbsfdg010 PET data missing\n",
      "processing sub-tbsfdg006 ses-002\n",
      "sub-tbsfdg006 PET data missing\n",
      "processing sub-tbsfdg006 ses-003\n",
      "sub-tbsfdg006 PET data missing\n",
      "processing sub-tbsfdg015 ses-002\n",
      "sub-tbsfdg015 PET data missing\n",
      "processing sub-tbsfdg015 ses-003\n",
      "sub-tbsfdg015 PET data missing\n",
      "processing sub-tbsfdg002 ses-002\n",
      "sub-tbsfdg002 PET data missing\n",
      "processing sub-tbsfdg002 ses-003\n",
      "sub-tbsfdg002 PET data missing\n",
      "processing sub-tbsfdg008 ses-002\n",
      "sub-tbsfdg008 PET data missing\n",
      "processing sub-tbsfdg008 ses-003\n",
      "sub-tbsfdg008 PET data missing\n",
      "processing sub-tbsfdg034 ses-002\n",
      "sub-tbsfdg034 PET data missing\n",
      "processing sub-tbsfdg034 ses-003\n",
      "sub-tbsfdg034 PET data missing\n",
      "processing sub-tbsfdg009 ses-002\n",
      "sub-tbsfdg009 PET data missing\n"
     ]
    },
    {
     "ename": "IndexError",
     "evalue": "list index out of range",
     "output_type": "error",
     "traceback": [
      "\u001b[0;31m---------------------------------------------------------------------------\u001b[0m",
      "\u001b[0;31mIndexError\u001b[0m                                Traceback (most recent call last)",
      "Cell \u001b[0;32mIn[58], line 5\u001b[0m\n\u001b[1;32m      3\u001b[0m \u001b[38;5;28;01mfor\u001b[39;00m subject \u001b[38;5;129;01min\u001b[39;00m subjects:\n\u001b[1;32m      4\u001b[0m     warp2MNI(bids_dir2, subject, \u001b[38;5;124m'\u001b[39m\u001b[38;5;124mses-002\u001b[39m\u001b[38;5;124m'\u001b[39m)\n\u001b[0;32m----> 5\u001b[0m     \u001b[43mwarp2MNI\u001b[49m\u001b[43m(\u001b[49m\u001b[43mbids_dir3\u001b[49m\u001b[43m,\u001b[49m\u001b[43m \u001b[49m\u001b[43msubject\u001b[49m\u001b[43m,\u001b[49m\u001b[43m \u001b[49m\u001b[38;5;124;43m'\u001b[39;49m\u001b[38;5;124;43mses-003\u001b[39;49m\u001b[38;5;124;43m'\u001b[39;49m\u001b[43m)\u001b[49m\n",
      "Cell \u001b[0;32mIn[55], line 4\u001b[0m, in \u001b[0;36mwarp2MNI\u001b[0;34m(bids_dir, subject, session)\u001b[0m\n\u001b[1;32m      1\u001b[0m \u001b[38;5;28;01mdef\u001b[39;00m \u001b[38;5;21mwarp2MNI\u001b[39m(bids_dir, subject, session):\n\u001b[1;32m      3\u001b[0m     SUVR_pet_file \u001b[38;5;241m=\u001b[39m \u001b[38;5;124mf\u001b[39m\u001b[38;5;124m'\u001b[39m\u001b[38;5;132;01m{\u001b[39;00mbids_dir\u001b[38;5;132;01m}\u001b[39;00m\u001b[38;5;124m/\u001b[39m\u001b[38;5;132;01m{\u001b[39;00msubject\u001b[38;5;132;01m}\u001b[39;00m\u001b[38;5;124m/\u001b[39m\u001b[38;5;132;01m{\u001b[39;00msession\u001b[38;5;132;01m}\u001b[39;00m\u001b[38;5;124m/pet/SUVR.nii.gz\u001b[39m\u001b[38;5;124m'\u001b[39m\n\u001b[0;32m----> 4\u001b[0m     T1w_file \u001b[38;5;241m=\u001b[39m \u001b[43mglob\u001b[49m\u001b[38;5;241;43m.\u001b[39;49m\u001b[43mglob\u001b[49m\u001b[43m(\u001b[49m\u001b[38;5;124;43mf\u001b[39;49m\u001b[38;5;124;43m'\u001b[39;49m\u001b[38;5;132;43;01m{\u001b[39;49;00m\u001b[43mbids_dir\u001b[49m\u001b[38;5;132;43;01m}\u001b[39;49;00m\u001b[38;5;124;43m/\u001b[39;49m\u001b[38;5;132;43;01m{\u001b[39;49;00m\u001b[43msubject\u001b[49m\u001b[38;5;132;43;01m}\u001b[39;49;00m\u001b[38;5;124;43m/\u001b[39;49m\u001b[38;5;132;43;01m{\u001b[39;49;00m\u001b[43msession\u001b[49m\u001b[38;5;132;43;01m}\u001b[39;49;00m\u001b[38;5;124;43m/anat/\u001b[39;49m\u001b[38;5;132;43;01m{\u001b[39;49;00m\u001b[43msubject\u001b[49m\u001b[38;5;132;43;01m}\u001b[39;49;00m\u001b[38;5;124;43m_\u001b[39;49m\u001b[38;5;132;43;01m{\u001b[39;49;00m\u001b[43msession\u001b[49m\u001b[38;5;132;43;01m}\u001b[39;49;00m\u001b[38;5;124;43m_desc-preproc_T1w.nii.gz\u001b[39;49m\u001b[38;5;124;43m'\u001b[39;49m\u001b[43m)\u001b[49m\u001b[43m[\u001b[49m\u001b[38;5;241;43m0\u001b[39;49m\u001b[43m]\u001b[49m\n\u001b[1;32m      5\u001b[0m     T1w_MNI_file \u001b[38;5;241m=\u001b[39m glob\u001b[38;5;241m.\u001b[39mglob(\u001b[38;5;124mf\u001b[39m\u001b[38;5;124m'\u001b[39m\u001b[38;5;132;01m{\u001b[39;00mbids_dir\u001b[38;5;132;01m}\u001b[39;00m\u001b[38;5;124m/\u001b[39m\u001b[38;5;132;01m{\u001b[39;00msubject\u001b[38;5;132;01m}\u001b[39;00m\u001b[38;5;124m/\u001b[39m\u001b[38;5;132;01m{\u001b[39;00msession\u001b[38;5;132;01m}\u001b[39;00m\u001b[38;5;124m/anat/*_res-2_desc-preproc_T1w.nii.gz\u001b[39m\u001b[38;5;124m'\u001b[39m)[\u001b[38;5;241m0\u001b[39m]\n\u001b[1;32m      7\u001b[0m     T1w2MNI \u001b[38;5;241m=\u001b[39m glob\u001b[38;5;241m.\u001b[39mglob(\u001b[38;5;124mf\u001b[39m\u001b[38;5;124m'\u001b[39m\u001b[38;5;132;01m{\u001b[39;00mbids_dir\u001b[38;5;132;01m}\u001b[39;00m\u001b[38;5;124m/\u001b[39m\u001b[38;5;132;01m{\u001b[39;00msubject\u001b[38;5;132;01m}\u001b[39;00m\u001b[38;5;124m/\u001b[39m\u001b[38;5;132;01m{\u001b[39;00msession\u001b[38;5;132;01m}\u001b[39;00m\u001b[38;5;124m/anat/*MNI152NLin6Asym_mode-image_xfm.h5\u001b[39m\u001b[38;5;124m'\u001b[39m)[\u001b[38;5;241m0\u001b[39m]\n",
      "\u001b[0;31mIndexError\u001b[0m: list index out of range"
     ]
    }
   ],
   "source": [
    "sessions = ['ses-002', 'ses-003']\n",
    "\n",
    "for subject in subjects:\n",
    "    warp2MNI(bids_dir2, subject, 'ses-002')\n",
    "    warp2MNI(bids_dir3, subject, 'ses-003')\n"
   ]
  }
 ],
 "metadata": {
  "kernelspec": {
   "display_name": "base",
   "language": "python",
   "name": "python3"
  },
  "language_info": {
   "codemirror_mode": {
    "name": "ipython",
    "version": 3
   },
   "file_extension": ".py",
   "mimetype": "text/x-python",
   "name": "python",
   "nbconvert_exporter": "python",
   "pygments_lexer": "ipython3",
   "version": "3.11.9"
  }
 },
 "nbformat": 4,
 "nbformat_minor": 2
}
