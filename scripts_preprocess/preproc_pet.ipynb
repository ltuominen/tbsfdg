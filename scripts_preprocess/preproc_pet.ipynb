{
 "cells": [
  {
   "cell_type": "code",
   "execution_count": 60,
   "metadata": {},
   "outputs": [],
   "source": [
    "import ants\n",
    "import numpy as np\n",
    "import nibabel as nb\n",
    "import glob, os\n",
    "import shutil\n",
    "\n",
    "from nilearn import plotting"
   ]
  },
  {
   "cell_type": "code",
   "execution_count": 66,
   "metadata": {},
   "outputs": [],
   "source": [
    "# directories & files \n",
    "bids_dir = '/home/lauri/Documents/TMS-FDG/derivatives/iter6s2'\n",
    "subject =  'sub-tbsfdg001'\n",
    "session = 'ses-002'\n",
    "pet= 'sub-tbsfdg001-ses-002_pet.nii.gz'\n"
   ]
  },
  {
   "cell_type": "code",
   "execution_count": 67,
   "metadata": {},
   "outputs": [],
   "source": [
    "pet_dir = f'{bids_dir}/{subject}/{session}/pet'\n",
    "pet_fullpath = f'{pet_dir}/{pet}'\n",
    "pet= ants.image_read(pet_fullpath)\n"
   ]
  },
  {
   "cell_type": "code",
   "execution_count": 68,
   "metadata": {},
   "outputs": [
    {
     "data": {
      "text/plain": [
       "'/home/lauri/Documents/TMS-FDG/derivatives/iter6s2/sub-tbsfdg001/ses-002/pet/reg/fwdtransform_PET2T1w_Affine.mat'"
      ]
     },
     "execution_count": 68,
     "metadata": {},
     "output_type": "execute_result"
    }
   ],
   "source": [
    "\n",
    "# do first round motion correction \n",
    "images_unmerged = ants.ndimage_to_list( pet )\n",
    "motion_corrected_first = list()\n",
    "for i in range(len(images_unmerged)):\n",
    "    areg = ants.registration( images_unmerged[0], images_unmerged[i], type_of_transform='Affine' )\n",
    "    motion_corrected_first.append( areg[ 'warpedmovout' ] )   \n",
    "\n",
    "# sum the motion corrected as a template\n",
    "template= motion_corrected_first[0]\n",
    "for i in range(1,len(motion_corrected_first)):\n",
    "    template + motion_corrected_first[i]\n",
    "template_pet_fullpath = f'{pet_dir}/{subject}-{session}_template_pet.nii.gz' \n",
    "ants.image_write(image=template, filename=template_pet_fullpath) \n",
    "\n",
    "# redo motion correction to the template and this time save the warps \n",
    "regdir = f'{pet_dir}/reg'\n",
    "if not os.path.isdir(regdir):\n",
    "    os.makedirs(regdir)\n",
    "\n",
    "motion_affines = []\n",
    "motion_corrected_second = list()\n",
    "for i in range(len(images_unmerged)):\n",
    "    areg = ants.registration( template, images_unmerged[i], type_of_transform='Affine', outprefix=regdir )\n",
    "    motion_affine = f'{regdir}/fwdtransform_frame{i}_Affine.mat'\n",
    "    motion_affines.append(motion_affine)\n",
    "    shutil.move(areg['fwdtransforms'][0], motion_affine)\n",
    "    motion_corrected_second.append( areg[ 'warpedmovout' ] ) \n",
    "    \n",
    "# save the motion corrected PET   \n",
    "motCorr = ants.list_to_ndimage( pet, motion_corrected )\n",
    "mc_pet_fullpath = f'{pet_dir}/{subject}-{session}_mc_pet.nii.gz' \n",
    "ants.image_write(image=motCorr, filename=mc_pet_fullpath) \n",
    "\n",
    "# sum the twice motion corrected PET \n",
    "sum_mc = motion_corrected_second[0]\n",
    "for i in range(1,len(motion_corrected_second)):\n",
    "    sum_mc  + motion_corrected_second[i]\n",
    "sum_mc_pet_fullpath = f'{pet_dir}/{subject}-{session}_sum_mc_pet.nii.gz' \n",
    "ants.image_write(image=sum_mc, filename=sum_mc_pet_fullpath) \n",
    "\n",
    "# calculate the registration of sum_mc to T1w\n",
    "T1w_file = glob.glob(f'{bids_dir}/{subject}/{session}/anat/*_desc-preproc_T1w.nii.gz')[0]\n",
    "T1w = ants.image_read(T1w_file)\n",
    "\n",
    "T1w_MNI_file = glob.glob(f'{bids_dir}/{subject}/{session}/anat/*_res-2_desc-preproc_T1w.nii.gz')[0]\n",
    "T1w_MNI = ants.image_read(T1w_MNI_file)\n",
    "\n",
    "T1w2MNI = glob.glob(f'{bids_dir}/{subject}/{session}/anat/*MNI152NLin6Asym_mode-image_xfm.h5')[0]\n",
    "\n",
    "# calculate PET2T1w\n",
    "registration = ants.registration(fixed=T1w, moving=sum_mc, type_of_transform='Affine',metric='MI', outprefix=regdir)\n",
    "PET2T1W =f'{regdir}/fwdtransform_PET2T1w_Affine.mat'\n",
    "shutil.move(registration['fwdtransforms'][0], PET2T1W)\n"
   ]
  },
  {
   "cell_type": "code",
   "execution_count": 104,
   "metadata": {},
   "outputs": [
    {
     "name": "stdout",
     "output_type": "stream",
     "text": [
      "(-358.8940124511719, -359.4070129394531, 128.38400268554688)\n"
     ]
    }
   ],
   "source": [
    "motion_corrected_second[0]\n",
    "print(motion_corrected_second[0].origin)\n"
   ]
  },
  {
   "cell_type": "code",
   "execution_count": 105,
   "metadata": {},
   "outputs": [],
   "source": [
    "\n",
    "T1w2MNI = glob.glob(f'{bids_dir}/{subject}/{session}/anat/*MNI152NLin6Asym_mode-image_xfm.h5')[0]\n",
    "PET2T1W =f'{regdir}/fwdtransform_PET2T1w_Affine.mat'\n",
    "# motion_affines is a list of affines saved when motion correcting the PET \n",
    "\n",
    "images_unmerged = ants.ndimage_to_list( pet )\n",
    "frames_in_MNI = list()\n",
    "\n",
    "for i in range(len(images_unmerged)):\n",
    "    comb_transforms = ants.apply_transforms(fixed=T1w_MNI,\n",
    "                                        moving=images_unmerged[i],\n",
    "                                        transformlist=[ T1w2MNI, PET2T1W, motion_affines[i]],\n",
    "                                        compose=regdir)\n",
    "    frame_MNI = ants.apply_transforms(fixed=T1w_MNI,moving=images_unmerged[i],transformlist=[comb_transforms])\n",
    "    frames_in_MNI.append( frame_MNI )  \n",
    "    \n",
    "\n",
    "#mc_MNI_PET = ants.list_to_ndimage( T1w_MNI, frames_in_MNI )\n",
    "    "
   ]
  },
  {
   "cell_type": "code",
   "execution_count": 113,
   "metadata": {},
   "outputs": [
    {
     "data": {
      "text/plain": [
       "[ANTsImage (RAS)\n",
       " \t Pixel Type : float (float32)\n",
       " \t Components : 1\n",
       " \t Dimensions : (172, 172, 127)\n",
       " \t Spacing    : (4.1725, 4.1725, 2.031)\n",
       " \t Origin     : (-358.894, -359.407, 128.384)\n",
       " \t Direction  : [ 1.  0.  0.  0.  1.  0.  0.  0. -1.],\n",
       " ANTsImage (RAS)\n",
       " \t Pixel Type : float (float32)\n",
       " \t Components : 1\n",
       " \t Dimensions : (172, 172, 127)\n",
       " \t Spacing    : (4.1725, 4.1725, 2.031)\n",
       " \t Origin     : (-358.894, -359.407, 128.384)\n",
       " \t Direction  : [ 1.  0.  0.  0.  1.  0.  0.  0. -1.],\n",
       " ANTsImage (RAS)\n",
       " \t Pixel Type : float (float32)\n",
       " \t Components : 1\n",
       " \t Dimensions : (172, 172, 127)\n",
       " \t Spacing    : (4.1725, 4.1725, 2.031)\n",
       " \t Origin     : (-358.894, -359.407, 128.384)\n",
       " \t Direction  : [ 1.  0.  0.  0.  1.  0.  0.  0. -1.],\n",
       " ANTsImage (RAS)\n",
       " \t Pixel Type : float (float32)\n",
       " \t Components : 1\n",
       " \t Dimensions : (172, 172, 127)\n",
       " \t Spacing    : (4.1725, 4.1725, 2.031)\n",
       " \t Origin     : (-358.894, -359.407, 128.384)\n",
       " \t Direction  : [ 1.  0.  0.  0.  1.  0.  0.  0. -1.],\n",
       " ANTsImage (RAS)\n",
       " \t Pixel Type : float (float32)\n",
       " \t Components : 1\n",
       " \t Dimensions : (172, 172, 127)\n",
       " \t Spacing    : (4.1725, 4.1725, 2.031)\n",
       " \t Origin     : (-358.894, -359.407, 128.384)\n",
       " \t Direction  : [ 1.  0.  0.  0.  1.  0.  0.  0. -1.],\n",
       " ANTsImage (RAS)\n",
       " \t Pixel Type : float (float32)\n",
       " \t Components : 1\n",
       " \t Dimensions : (172, 172, 127)\n",
       " \t Spacing    : (4.1725, 4.1725, 2.031)\n",
       " \t Origin     : (-358.894, -359.407, 128.384)\n",
       " \t Direction  : [ 1.  0.  0.  0.  1.  0.  0.  0. -1.],\n",
       " ANTsImage (RAS)\n",
       " \t Pixel Type : float (float32)\n",
       " \t Components : 1\n",
       " \t Dimensions : (172, 172, 127)\n",
       " \t Spacing    : (4.1725, 4.1725, 2.031)\n",
       " \t Origin     : (-358.894, -359.407, 128.384)\n",
       " \t Direction  : [ 1.  0.  0.  0.  1.  0.  0.  0. -1.],\n",
       " ANTsImage (RAS)\n",
       " \t Pixel Type : float (float32)\n",
       " \t Components : 1\n",
       " \t Dimensions : (172, 172, 127)\n",
       " \t Spacing    : (4.1725, 4.1725, 2.031)\n",
       " \t Origin     : (-358.894, -359.407, 128.384)\n",
       " \t Direction  : [ 1.  0.  0.  0.  1.  0.  0.  0. -1.],\n",
       " ANTsImage (RAS)\n",
       " \t Pixel Type : float (float32)\n",
       " \t Components : 1\n",
       " \t Dimensions : (172, 172, 127)\n",
       " \t Spacing    : (4.1725, 4.1725, 2.031)\n",
       " \t Origin     : (-358.894, -359.407, 128.384)\n",
       " \t Direction  : [ 1.  0.  0.  0.  1.  0.  0.  0. -1.],\n",
       " ANTsImage (RAS)\n",
       " \t Pixel Type : float (float32)\n",
       " \t Components : 1\n",
       " \t Dimensions : (172, 172, 127)\n",
       " \t Spacing    : (4.1725, 4.1725, 2.031)\n",
       " \t Origin     : (-358.894, -359.407, 128.384)\n",
       " \t Direction  : [ 1.  0.  0.  0.  1.  0.  0.  0. -1.],\n",
       " ANTsImage (RAS)\n",
       " \t Pixel Type : float (float32)\n",
       " \t Components : 1\n",
       " \t Dimensions : (172, 172, 127)\n",
       " \t Spacing    : (4.1725, 4.1725, 2.031)\n",
       " \t Origin     : (-358.894, -359.407, 128.384)\n",
       " \t Direction  : [ 1.  0.  0.  0.  1.  0.  0.  0. -1.],\n",
       " ANTsImage (RAS)\n",
       " \t Pixel Type : float (float32)\n",
       " \t Components : 1\n",
       " \t Dimensions : (172, 172, 127)\n",
       " \t Spacing    : (4.1725, 4.1725, 2.031)\n",
       " \t Origin     : (-358.894, -359.407, 128.384)\n",
       " \t Direction  : [ 1.  0.  0.  0.  1.  0.  0.  0. -1.],\n",
       " ANTsImage (RAS)\n",
       " \t Pixel Type : float (float32)\n",
       " \t Components : 1\n",
       " \t Dimensions : (172, 172, 127)\n",
       " \t Spacing    : (4.1725, 4.1725, 2.031)\n",
       " \t Origin     : (-358.894, -359.407, 128.384)\n",
       " \t Direction  : [ 1.  0.  0.  0.  1.  0.  0.  0. -1.],\n",
       " ANTsImage (RAS)\n",
       " \t Pixel Type : float (float32)\n",
       " \t Components : 1\n",
       " \t Dimensions : (172, 172, 127)\n",
       " \t Spacing    : (4.1725, 4.1725, 2.031)\n",
       " \t Origin     : (-358.894, -359.407, 128.384)\n",
       " \t Direction  : [ 1.  0.  0.  0.  1.  0.  0.  0. -1.],\n",
       " ANTsImage (RAS)\n",
       " \t Pixel Type : float (float32)\n",
       " \t Components : 1\n",
       " \t Dimensions : (172, 172, 127)\n",
       " \t Spacing    : (4.1725, 4.1725, 2.031)\n",
       " \t Origin     : (-358.894, -359.407, 128.384)\n",
       " \t Direction  : [ 1.  0.  0.  0.  1.  0.  0.  0. -1.]]"
      ]
     },
     "execution_count": 113,
     "metadata": {},
     "output_type": "execute_result"
    }
   ],
   "source": [
    "motion_corrected_second"
   ]
  },
  {
   "cell_type": "code",
   "execution_count": 78,
   "metadata": {},
   "outputs": [
    {
     "name": "stdout",
     "output_type": "stream",
     "text": [
      "\u001b[0;31mSignature:\u001b[0m \u001b[0mants\u001b[0m\u001b[0;34m.\u001b[0m\u001b[0mlist_to_ndimage\u001b[0m\u001b[0;34m(\u001b[0m\u001b[0mimage\u001b[0m\u001b[0;34m,\u001b[0m \u001b[0mimage_list\u001b[0m\u001b[0;34m)\u001b[0m\u001b[0;34m\u001b[0m\u001b[0;34m\u001b[0m\u001b[0m\n",
      "\u001b[0;31mDocstring:\u001b[0m\n",
      "Merge list of multiple scalar ANTsImage types of dimension into one\n",
      "ANTsImage of dimension plus one\n",
      "\n",
      "ANTsR function: `mergeListToNDImage`\n",
      "\n",
      "Arguments\n",
      "---------\n",
      "image : target image space\n",
      "image_list : list/tuple of ANTsImage types\n",
      "    scalar images to merge into target image space\n",
      "\n",
      "Returns\n",
      "-------\n",
      "ANTsImage\n",
      "\n",
      "Example\n",
      "-------\n",
      ">>> import ants\n",
      ">>> image = ants.image_read(ants.get_ants_data('r16'))\n",
      ">>> image2 = ants.image_read(ants.get_ants_data('r16'))\n",
      ">>> imageTar = ants.make_image( ( *image2.shape, 2 ) )\n",
      ">>> image3 = ants.list_to_ndimage( imageTar, [image,image2])\n",
      ">>> image3.dimension == 3\n",
      "\u001b[0;31mFile:\u001b[0m      ~/.local/lib/python3.11/site-packages/ants/utils/ndimage_to_list.py\n",
      "\u001b[0;31mType:\u001b[0m      function"
     ]
    }
   ],
   "source": [
    "?ants.list_to_ndimage"
   ]
  },
  {
   "cell_type": "code",
   "execution_count": 46,
   "metadata": {},
   "outputs": [
    {
     "name": "stdout",
     "output_type": "stream",
     "text": [
      "/home/lauri/Documents/TMS-FDG/derivatives/iter6s2/sub-tbsfdg001/ses-002/pet/sub-tbsfdg001-ses-002_mc_sum_pet_nii.gz\n"
     ]
    },
    {
     "ename": "RuntimeError",
     "evalue": "/project/itksource/Modules/IO/ImageBase/include/itkImageFileWriter.hxx:117:\n Could not create IO object for writing file /home/lauri/Documents/TMS-FDG/derivatives/iter6s2/sub-tbsfdg001/ses-002/pet/sub-tbsfdg001-ses-002_mc_sum_pet_nii.gz\n  Tried to create one of the following:\n    BMPImageIO\n    BioRadImageIO\n    Bruker2dseqImageIO\n    GDCMImageIO\n    GE4ImageIO\n    GE5ImageIO\n    GiplImageIO\n    HDF5ImageIO\n    JPEGImageIO\n    JPEG2000ImageIO\n    LSMImageIO\n    MGHImageIO\n    MINCImageIO\n    MRCImageIO\n    MetaImageIO\n    NiftiImageIO\n    NrrdImageIO\n    PNGImageIO\n    StimulateImageIO\n    TIFFImageIO\n    VTKImageIO\n  You probably failed to set a file suffix, or\n    set the suffix to an unsupported type.\n",
     "output_type": "error",
     "traceback": [
      "\u001b[0;31m---------------------------------------------------------------------------\u001b[0m",
      "\u001b[0;31mRuntimeError\u001b[0m                              Traceback (most recent call last)",
      "Cell \u001b[0;32mIn[46], line 9\u001b[0m\n\u001b[1;32m      7\u001b[0m pet_dir \u001b[38;5;241m=\u001b[39m \u001b[38;5;124mf\u001b[39m\u001b[38;5;124m'\u001b[39m\u001b[38;5;132;01m{\u001b[39;00mbids_dir\u001b[38;5;132;01m}\u001b[39;00m\u001b[38;5;124m/\u001b[39m\u001b[38;5;132;01m{\u001b[39;00msubject\u001b[38;5;132;01m}\u001b[39;00m\u001b[38;5;124m/\u001b[39m\u001b[38;5;132;01m{\u001b[39;00msession\u001b[38;5;132;01m}\u001b[39;00m\u001b[38;5;124m/pet\u001b[39m\u001b[38;5;124m'\u001b[39m\n\u001b[1;32m      8\u001b[0m os\u001b[38;5;241m.\u001b[39mlistdir(pet_dir)\n\u001b[0;32m----> 9\u001b[0m \u001b[43mants\u001b[49m\u001b[38;5;241;43m.\u001b[39;49m\u001b[43mimage_write\u001b[49m\u001b[43m(\u001b[49m\u001b[43msummed\u001b[49m\u001b[43m,\u001b[49m\u001b[43m \u001b[49m\u001b[43mmc_sum_pet_fullpath\u001b[49m\u001b[43m)\u001b[49m \n",
      "File \u001b[0;32m~/.local/lib/python3.11/site-packages/ants/core/ants_image_io.py:450\u001b[0m, in \u001b[0;36mimage_write\u001b[0;34m(image, filename, ri)\u001b[0m\n\u001b[1;32m    448\u001b[0m         json\u001b[38;5;241m.\u001b[39mdump(img_header, outfile)\n\u001b[1;32m    449\u001b[0m \u001b[38;5;28;01melse\u001b[39;00m:\n\u001b[0;32m--> 450\u001b[0m     \u001b[43mimage\u001b[49m\u001b[38;5;241;43m.\u001b[39;49m\u001b[43mto_file\u001b[49m\u001b[43m(\u001b[49m\u001b[43mfilename\u001b[49m\u001b[43m)\u001b[49m\n\u001b[1;32m    452\u001b[0m \u001b[38;5;28;01mif\u001b[39;00m ri:\n\u001b[1;32m    453\u001b[0m     \u001b[38;5;28;01mreturn\u001b[39;00m image\n",
      "File \u001b[0;32m~/.local/lib/python3.11/site-packages/ants/core/ants_image.py:288\u001b[0m, in \u001b[0;36mANTsImage.to_file\u001b[0;34m(self, filename)\u001b[0m\n\u001b[1;32m    279\u001b[0m \u001b[38;5;250m\u001b[39m\u001b[38;5;124;03m\"\"\"\u001b[39;00m\n\u001b[1;32m    280\u001b[0m \u001b[38;5;124;03mWrite the ANTsImage to file\u001b[39;00m\n\u001b[1;32m    281\u001b[0m \n\u001b[0;32m   (...)\u001b[0m\n\u001b[1;32m    285\u001b[0m \u001b[38;5;124;03m    filepath to which the image will be written\u001b[39;00m\n\u001b[1;32m    286\u001b[0m \u001b[38;5;124;03m\"\"\"\u001b[39;00m\n\u001b[1;32m    287\u001b[0m filename \u001b[38;5;241m=\u001b[39m os\u001b[38;5;241m.\u001b[39mpath\u001b[38;5;241m.\u001b[39mexpanduser(filename)\n\u001b[0;32m--> 288\u001b[0m \u001b[43mget_lib_fn\u001b[49m\u001b[43m(\u001b[49m\u001b[38;5;124;43m'\u001b[39;49m\u001b[38;5;124;43mtoFile\u001b[39;49m\u001b[38;5;124;43m'\u001b[39;49m\u001b[43m)\u001b[49m\u001b[43m(\u001b[49m\u001b[38;5;28;43mself\u001b[39;49m\u001b[38;5;241;43m.\u001b[39;49m\u001b[43mpointer\u001b[49m\u001b[43m,\u001b[49m\u001b[43m \u001b[49m\u001b[43mfilename\u001b[49m\u001b[43m)\u001b[49m\n",
      "\u001b[0;31mRuntimeError\u001b[0m: /project/itksource/Modules/IO/ImageBase/include/itkImageFileWriter.hxx:117:\n Could not create IO object for writing file /home/lauri/Documents/TMS-FDG/derivatives/iter6s2/sub-tbsfdg001/ses-002/pet/sub-tbsfdg001-ses-002_mc_sum_pet_nii.gz\n  Tried to create one of the following:\n    BMPImageIO\n    BioRadImageIO\n    Bruker2dseqImageIO\n    GDCMImageIO\n    GE4ImageIO\n    GE5ImageIO\n    GiplImageIO\n    HDF5ImageIO\n    JPEGImageIO\n    JPEG2000ImageIO\n    LSMImageIO\n    MGHImageIO\n    MINCImageIO\n    MRCImageIO\n    MetaImageIO\n    NiftiImageIO\n    NrrdImageIO\n    PNGImageIO\n    StimulateImageIO\n    TIFFImageIO\n    VTKImageIO\n  You probably failed to set a file suffix, or\n    set the suffix to an unsupported type.\n"
     ]
    }
   ],
   "source": [
    "p = pet_dir + '/' + 'summed.nii.gz'\n",
    "ants.image_write(summed, p) \n",
    "mc_sum_pet_fullpath = f'{pet_dir}/{subject}-{session}_mc_sum_pet.nii.gz' \n",
    "print(mc_sum_pet_fullpath)\n",
    "#mc_sum_pet_fullpath = f'{pet_dir}/{subject}-{session}_mc_sum_pet_nii.gz'\n",
    "#mc_sum_pet_fullpath\n",
    "pet_dir = f'{bids_dir}/{subject}/{session}/pet'\n",
    "os.listdir(pet_dir)\n",
    "ants.image_write(summed, mc_sum_pet_fullpath) "
   ]
  },
  {
   "cell_type": "code",
   "execution_count": 23,
   "metadata": {},
   "outputs": [
    {
     "ename": "RuntimeError",
     "evalue": "/project/itksource/Modules/IO/ImageBase/include/itkImageFileWriter.hxx:117:\n Could not create IO object for writing file /home/lauri/Documents/TMS-FDG/derivatives/iter6s2/sub-tbsfdg001/ses-002/pet/sub-tbsfdg001-ses-002_mc_sum_pet_nii.gz\n  Tried to create one of the following:\n    BMPImageIO\n    BioRadImageIO\n    Bruker2dseqImageIO\n    GDCMImageIO\n    GE4ImageIO\n    GE5ImageIO\n    GiplImageIO\n    HDF5ImageIO\n    JPEGImageIO\n    JPEG2000ImageIO\n    LSMImageIO\n    MGHImageIO\n    MINCImageIO\n    MRCImageIO\n    MetaImageIO\n    NiftiImageIO\n    NrrdImageIO\n    PNGImageIO\n    StimulateImageIO\n    TIFFImageIO\n    VTKImageIO\n  You probably failed to set a file suffix, or\n    set the suffix to an unsupported type.\n",
     "output_type": "error",
     "traceback": [
      "\u001b[0;31m---------------------------------------------------------------------------\u001b[0m",
      "\u001b[0;31mRuntimeError\u001b[0m                              Traceback (most recent call last)",
      "Cell \u001b[0;32mIn[23], line 5\u001b[0m\n\u001b[1;32m      3\u001b[0m     summed \u001b[38;5;241m+\u001b[39m motion_corrected[i]\n\u001b[1;32m      4\u001b[0m mc_sum_pet_fullpath \u001b[38;5;241m=\u001b[39m \u001b[38;5;124mf\u001b[39m\u001b[38;5;124m'\u001b[39m\u001b[38;5;132;01m{\u001b[39;00mpet_dir\u001b[38;5;132;01m}\u001b[39;00m\u001b[38;5;124m/\u001b[39m\u001b[38;5;132;01m{\u001b[39;00msubject\u001b[38;5;132;01m}\u001b[39;00m\u001b[38;5;124m-\u001b[39m\u001b[38;5;132;01m{\u001b[39;00msession\u001b[38;5;132;01m}\u001b[39;00m\u001b[38;5;124m_mc_sum_pet_nii.gz\u001b[39m\u001b[38;5;124m'\u001b[39m \n\u001b[0;32m----> 5\u001b[0m \u001b[43mants\u001b[49m\u001b[38;5;241;43m.\u001b[39;49m\u001b[43mimage_write\u001b[49m\u001b[43m(\u001b[49m\u001b[43mimage\u001b[49m\u001b[38;5;241;43m=\u001b[39;49m\u001b[43msummed\u001b[49m\u001b[43m,\u001b[49m\u001b[43m \u001b[49m\u001b[43mfilename\u001b[49m\u001b[38;5;241;43m=\u001b[39;49m\u001b[43mmc_sum_pet_fullpath\u001b[49m\u001b[43m)\u001b[49m \n",
      "File \u001b[0;32m~/.local/lib/python3.11/site-packages/ants/core/ants_image_io.py:450\u001b[0m, in \u001b[0;36mimage_write\u001b[0;34m(image, filename, ri)\u001b[0m\n\u001b[1;32m    448\u001b[0m         json\u001b[38;5;241m.\u001b[39mdump(img_header, outfile)\n\u001b[1;32m    449\u001b[0m \u001b[38;5;28;01melse\u001b[39;00m:\n\u001b[0;32m--> 450\u001b[0m     \u001b[43mimage\u001b[49m\u001b[38;5;241;43m.\u001b[39;49m\u001b[43mto_file\u001b[49m\u001b[43m(\u001b[49m\u001b[43mfilename\u001b[49m\u001b[43m)\u001b[49m\n\u001b[1;32m    452\u001b[0m \u001b[38;5;28;01mif\u001b[39;00m ri:\n\u001b[1;32m    453\u001b[0m     \u001b[38;5;28;01mreturn\u001b[39;00m image\n",
      "File \u001b[0;32m~/.local/lib/python3.11/site-packages/ants/core/ants_image.py:288\u001b[0m, in \u001b[0;36mANTsImage.to_file\u001b[0;34m(self, filename)\u001b[0m\n\u001b[1;32m    279\u001b[0m \u001b[38;5;250m\u001b[39m\u001b[38;5;124;03m\"\"\"\u001b[39;00m\n\u001b[1;32m    280\u001b[0m \u001b[38;5;124;03mWrite the ANTsImage to file\u001b[39;00m\n\u001b[1;32m    281\u001b[0m \n\u001b[0;32m   (...)\u001b[0m\n\u001b[1;32m    285\u001b[0m \u001b[38;5;124;03m    filepath to which the image will be written\u001b[39;00m\n\u001b[1;32m    286\u001b[0m \u001b[38;5;124;03m\"\"\"\u001b[39;00m\n\u001b[1;32m    287\u001b[0m filename \u001b[38;5;241m=\u001b[39m os\u001b[38;5;241m.\u001b[39mpath\u001b[38;5;241m.\u001b[39mexpanduser(filename)\n\u001b[0;32m--> 288\u001b[0m \u001b[43mget_lib_fn\u001b[49m\u001b[43m(\u001b[49m\u001b[38;5;124;43m'\u001b[39;49m\u001b[38;5;124;43mtoFile\u001b[39;49m\u001b[38;5;124;43m'\u001b[39;49m\u001b[43m)\u001b[49m\u001b[43m(\u001b[49m\u001b[38;5;28;43mself\u001b[39;49m\u001b[38;5;241;43m.\u001b[39;49m\u001b[43mpointer\u001b[49m\u001b[43m,\u001b[49m\u001b[43m \u001b[49m\u001b[43mfilename\u001b[49m\u001b[43m)\u001b[49m\n",
      "\u001b[0;31mRuntimeError\u001b[0m: /project/itksource/Modules/IO/ImageBase/include/itkImageFileWriter.hxx:117:\n Could not create IO object for writing file /home/lauri/Documents/TMS-FDG/derivatives/iter6s2/sub-tbsfdg001/ses-002/pet/sub-tbsfdg001-ses-002_mc_sum_pet_nii.gz\n  Tried to create one of the following:\n    BMPImageIO\n    BioRadImageIO\n    Bruker2dseqImageIO\n    GDCMImageIO\n    GE4ImageIO\n    GE5ImageIO\n    GiplImageIO\n    HDF5ImageIO\n    JPEGImageIO\n    JPEG2000ImageIO\n    LSMImageIO\n    MGHImageIO\n    MINCImageIO\n    MRCImageIO\n    MetaImageIO\n    NiftiImageIO\n    NrrdImageIO\n    PNGImageIO\n    StimulateImageIO\n    TIFFImageIO\n    VTKImageIO\n  You probably failed to set a file suffix, or\n    set the suffix to an unsupported type.\n"
     ]
    }
   ],
   "source": [
    "\n",
    "summed = motion_corrected[0]\n",
    "for i in range(1,len(motion_corrected)):\n",
    "    summed + motion_corrected[i]\n",
    "mc_sum_pet_fullpath = f'{pet_dir}/{subject}-{session}_mc_sum_pet_nii.gz' \n",
    "ants.image_write(image=summed, filename=mc_sum_pet_fullpath) "
   ]
  },
  {
   "cell_type": "code",
   "execution_count": 15,
   "metadata": {},
   "outputs": [],
   "source": [
    "def motion_correct_warp_sum(bids_dir, subject, session, pet):\n",
    "    \"\"\"do motion correction, warp to MNI in one go and then sum the motion corrected images in MNI space \n",
    "\n",
    "    Args:\n",
    "        bids_dir (str): derivatives folder \n",
    "        subject (str): subject ID\n",
    "        session (str): session\n",
    "        pet (str): filename\n",
    "    Returns:\n",
    "        full paths to mc_corrected PET file in MNI and mc_corrected summed PET file in MNI\n",
    "    \"\"\"\n",
    "    \n",
    "    pet_dir = f'{bids_dir}/{subject}/{session}/pet'\n",
    "    pet_fullpath = f'{pet_dir}/{pet}'\n",
    "    pet= ants.image_read(pet_fullpath)\n",
    "    \n",
    "    images_unmerged = ants.ndimage_to_list( pet )\n",
    "    motion_corrected = list()\n",
    "    for i in range(len(images_unmerged)):\n",
    "        areg = ants.registration( images_unmerged[0], images_unmerged[i], type_of_transform='Affine' )\n",
    "        motion_corrected.append( areg[ 'warpedmovout' ] )    \n",
    "    motCorr = ants.list_to_ndimage( pet, motion_corrected )\n",
    "    mc_pet_fullpath = f'{pet_dir}/{subject}-{session}_mc_pet_nii.gz' \n",
    "    ants.image_write(image=motCorr, filename=mc_pet_fullpath) \n",
    "    \n",
    "    summed = motion_corrected[0]\n",
    "    for i in range(1,len(motion_corrected)):\n",
    "        summed + motion_corrected[i]\n",
    "    mc_sum_pet_fullpath = f'{pet_dir}/{subject}-{session}_mc_sum_pet_nii.gz' \n",
    "    ants.image_write(image=summed, filename=mc_sum_pet_fullpath) \n",
    "\n",
    "    return(mc_pet_fullpath, mc_sum_pet_fullpath)\n"
   ]
  },
  {
   "cell_type": "code",
   "execution_count": 22,
   "metadata": {},
   "outputs": [
    {
     "ename": "SyntaxError",
     "evalue": "invalid syntax (650549416.py, line 26)",
     "output_type": "error",
     "traceback": [
      "\u001b[0;36m  Cell \u001b[0;32mIn[22], line 26\u001b[0;36m\u001b[0m\n\u001b[0;31m    os.\u001b[0m\n\u001b[0m       ^\u001b[0m\n\u001b[0;31mSyntaxError\u001b[0m\u001b[0;31m:\u001b[0m invalid syntax\n"
     ]
    }
   ],
   "source": [
    "def register(bids_dir, subject, session, pet):\n",
    "    \"\"\"Register and write PET image to MNI152 space by combining coregisteration of the PET to T1 and T1 to MNI152\n",
    "\n",
    "    Args:\n",
    "        bids_dir (str): derivatives folder \n",
    "        subject (str): subject ID\n",
    "        session (str): session\n",
    "        pet (str): filename\n",
    "    Returns:\n",
    "    Full path to MNI152 registered summed PET image\n",
    "    \"\"\"\n",
    "    pet_dir = f'{bids_dir}/{subject}/{session}/pet'\n",
    "    pet_fullpath = f'{pet_dir}/{pet}'\n",
    "    pet= ants.image_read(pet_fullpath)\n",
    "    \n",
    "    T1w_file = glob.glob(f'{bids_dir}/{subject}/{session}/anat/*_desc-preproc_T1w.nii.gz')[0]\n",
    "    T1w = ants.image_read(T1w_file)\n",
    "    \n",
    "    T1w_MNI_file = glob.glob(f'{bids_dir}/{subject}/{session}/anat/*_res-2_desc-preproc_T1w.nii.gz')[0]\n",
    "    T1w_MNI = ants.image_read(T1w_MNI_file)\n",
    "    \n",
    "    T1w2MNI = glob.glob(f'{bids_dir}/{subject}/{session}/anat/*MNI152NLin6Asym_mode-image_xfm.h5')[0]\n",
    "    \n",
    "    # calculate PET2T1w\n",
    "    regdir = f'{pet_dir}/antsr'\n",
    "    os.\n",
    "    registration = ants.registration(fixed=T1w, moving=pet, type_of_transform='Affine',metric='MI', outprefix=pet_dir)\n",
    "    \n",
    "    comptx_file = ants.apply_transforms(fixed=T1w_MNI,\n",
    "                                    moving=pet,\n",
    "                                    transformlist=[ T1w2MNI, registration['fwdtransforms'][0]],\n",
    "                                    compose=pet_dir)\n",
    "\n",
    "# apply PET to MNI transform to dynamic_template\n",
    "PET_MNIspace = ants.apply_transforms(fixed=T1w_MNI,moving=SUVR_pet,transformlist=[comptx_file])\n",
    "#ants.image_write(template_MNIspace,os.path.join(REGDIR,'dynamic_template_MNI.nii.gz'))\n",
    "ants.image_write(PET_MNIspace,f'{bids_dir}/{subject}/{session}/pet/SUVR_in_MNI.nii.gz')\n",
    "    #mywarpedimage = ants.apply_transforms(fixed=T1w, moving=pet,type_of_transform='Affine',\n",
    "    #                                  transformlist=registration['fwdtransforms'])\n",
    "    \n",
    "    "
   ]
  },
  {
   "cell_type": "code",
   "execution_count": null,
   "metadata": {},
   "outputs": [],
   "source": [
    "# motion correct \n",
    "images_unmerged = ants.ndimage_to_list( pet )\n",
    "motion_corrected = list()\n",
    "for i in range( len( images_unmerged ) ):\n",
    "    areg = ants.registration( images_unmerged[0], images_unmerged[i], \"SyN\" )\n",
    "    motion_corrected.append( areg[ 'warpedmovout' ] )\n",
    "# sum\n",
    "\n",
    "# register \n",
    "\n",
    "# calculate SUVR \n"
   ]
  },
  {
   "cell_type": "code",
   "execution_count": 3,
   "metadata": {},
   "outputs": [
    {
     "name": "stdout",
     "output_type": "stream",
     "text": [
      "\u001b[0;31mSignature:\u001b[0m \u001b[0mants\u001b[0m\u001b[0;34m.\u001b[0m\u001b[0mset_direction\u001b[0m\u001b[0;34m(\u001b[0m\u001b[0mimage\u001b[0m\u001b[0;34m,\u001b[0m \u001b[0mdirection\u001b[0m\u001b[0;34m)\u001b[0m\u001b[0;34m\u001b[0m\u001b[0;34m\u001b[0m\u001b[0m\n",
      "\u001b[0;31mDocstring:\u001b[0m\n",
      "Set direction of ANTsImage\n",
      "\n",
      "ANTsR function: `antsSetDirection`\n",
      "\u001b[0;31mFile:\u001b[0m      ~/.local/lib/python3.11/site-packages/ants/core/ants_image.py\n",
      "\u001b[0;31mType:\u001b[0m      function"
     ]
    }
   ],
   "source": [
    "?ants.set_direction"
   ]
  }
 ],
 "metadata": {
  "kernelspec": {
   "display_name": "base",
   "language": "python",
   "name": "python3"
  },
  "language_info": {
   "codemirror_mode": {
    "name": "ipython",
    "version": 3
   },
   "file_extension": ".py",
   "mimetype": "text/x-python",
   "name": "python",
   "nbconvert_exporter": "python",
   "pygments_lexer": "ipython3",
   "version": "3.11.9"
  }
 },
 "nbformat": 4,
 "nbformat_minor": 2
}
