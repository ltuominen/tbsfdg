{
 "cells": [
  {
   "cell_type": "code",
   "execution_count": 2,
   "id": "96caa72e",
   "metadata": {},
   "outputs": [],
   "source": [
    "from nilearn import plotting\n",
    "import os\n",
    "import numpy as np\n"
   ]
  },
  {
   "cell_type": "code",
   "execution_count": 15,
   "id": "30c906ac",
   "metadata": {},
   "outputs": [],
   "source": [
    "fsl_dir=os.environ['FSL_DIR']\n",
    "mni152=fsl_dir + '/data/standard/MNI152_T1_2mm_brain.nii.gz'\n",
    "\n",
    "contrasts = os.path.dirname(os.getcwd()) + '/contrasts/'\n",
    "output_dir = os.path.dirname(os.getcwd()) + '/qc_images/'\n",
    "\n",
    "files = []\n",
    "for f in os.listdir(contrasts): \n",
    "    if '_mni152_sm08.nii.gz' in f:\n",
    "        files.append(f)"
   ]
  },
  {
   "cell_type": "code",
   "execution_count": 19,
   "id": "34aa7dd8",
   "metadata": {},
   "outputs": [],
   "source": [
    "for f in files:\n",
    "    \n",
    "    plotfile=contrasts + f\n",
    "    output_file=os.path.join(output_dir, (f.split('_')[0] + '_active_minus_sham.png' ))\n",
    "    \n",
    "    plotting.plot_stat_map(\n",
    "        plotfile,\n",
    "        bg_img=mni152,\n",
    "        title=f.split('_')[0] + ' active minus sham',\n",
    "        threshold=0.025,\n",
    "        output_file=output_file\n",
    "    )"
   ]
  },
  {
   "cell_type": "code",
   "execution_count": null,
   "id": "9e90dbc2",
   "metadata": {},
   "outputs": [],
   "source": []
  }
 ],
 "metadata": {
  "kernelspec": {
   "display_name": "Python 3 (ipykernel)",
   "language": "python",
   "name": "python3"
  },
  "language_info": {
   "codemirror_mode": {
    "name": "ipython",
    "version": 3
   },
   "file_extension": ".py",
   "mimetype": "text/x-python",
   "name": "python",
   "nbconvert_exporter": "python",
   "pygments_lexer": "ipython3",
   "version": "3.10.11"
  }
 },
 "nbformat": 4,
 "nbformat_minor": 5
}
